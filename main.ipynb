import hoomd
import hoomd.md
import ex_render
import numpy
from matplotlib import pyplot
%matplotlib inline
hoomd.context.initialize('--mode=cpu');
system = hoomd.init.create_lattice(unitcell=hoomd.lattice.sq(a=1.1), n=10);
nl = hoomd.md.nlist.cell();
lj = hoomd.md.pair.lj(r_cut=3.0, nlist=nl);
lj.pair_coeff.set('A', 'A', epsilon=1.0, sigma=1.0);
hoomd.md.integrate.mode_standard(dt=0.005);
langevin = hoomd.md.integrate.langevin(group=hoomd.group.all(), kT=1.0, seed=2);
hoomd.run(300, quiet=True);
d = hoomd.dump.gsd("trajectory.gsd", period=200, group=hoomd.group.all(), overwrite=True);
log1 = hoomd.analyze.log(filename="log.log",
                         quantities=['potential_energy'],
                         period=10,
                         overwrite=True);
langevin.disable();
fire = hoomd.md.integrate.mode_minimize_fire(group=hoomd.group.all(), dt=0.005);
